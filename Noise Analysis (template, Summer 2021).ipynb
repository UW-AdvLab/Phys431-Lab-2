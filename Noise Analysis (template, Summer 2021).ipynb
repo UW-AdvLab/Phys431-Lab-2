{
 "cells": [
  {
   "cell_type": "markdown",
   "metadata": {},
   "source": [
    "# Johnson/Shot Noise Individual Analysis (Summer 2021)\n",
    "\n",
    "Use this template to carry out the analysis tasks for the Noise experiment.  For reference, here are links to recommended Python resources: the [Whirlwind Tour of Python](https://jakevdp.github.io/WhirlwindTourOfPython/) and the [Python Data Science Handbook](https://jakevdp.github.io/PythonDataScienceHandbook/) both by Jake VanderPlas.\n",
    "\n",
    "We will be making use of both the [Uncertainties](https://pythonhosted.org/uncertainties/) and [LMFit](https://lmfit.github.io/lmfit-py/) packages in this notebook."
   ]
  },
  {
   "cell_type": "code",
   "execution_count": null,
   "metadata": {},
   "outputs": [],
   "source": [
    "# Run this cell with Shift-Enter, and wait until the \n",
    "# asterisk changes to a number, i.e., [*] becomes [1]\n",
    "import numpy as np\n",
    "import scipy.constants as const\n",
    "import uncertainties as unc\n",
    "import matplotlib.pyplot as plt\n",
    "import pandas as pd\n",
    "%matplotlib inline"
   ]
  },
  {
   "cell_type": "markdown",
   "metadata": {},
   "source": [
    "## Johnson Noise Analysis\n",
    "\n",
    "### Get and Plot the Raw Data\n",
    "\n",
    "**About the data files:**  The spreadsheets show columns with headings of the resistance for Johnson noise or emission current for shot noise.  The values themselves are volts RMS.  You will want to average these before plotting.\n",
    "\n",
    "Create arrays that are the averages of the 5 readings at each value of the resistance."
   ]
  },
  {
   "cell_type": "code",
   "execution_count": null,
   "metadata": {},
   "outputs": [],
   "source": [
    "## Read in the data set and display it\n"
   ]
  },
  {
   "cell_type": "markdown",
   "metadata": {},
   "source": [
    "If you read the data into a Pandas DataFrame, you will need to extract the resistance from the column heading.\n",
    "\n",
    "Here is one way to do it, assuming `col_label` is the column label:\n",
    "```\n",
    "    resistance = float(col_label.split('k')[0])\n",
    "```\n",
    "This splits the label at `k` and puts the number into the first (0) position as a string.  `float()` converts the number string to a flaoting point number."
   ]
  },
  {
   "cell_type": "code",
   "execution_count": null,
   "metadata": {},
   "outputs": [],
   "source": [
    "## Calculate the averages of each column.\n",
    "## extract the values of the resistance.  \n",
    "## Build a dataframe and display it to see if it looks right.\n"
   ]
  },
  {
   "cell_type": "markdown",
   "metadata": {},
   "source": [
    "#### Repeat for the other temperature "
   ]
  },
  {
   "cell_type": "code",
   "execution_count": null,
   "metadata": {},
   "outputs": [],
   "source": [
    "## Read in the data set and display it\n"
   ]
  },
  {
   "cell_type": "code",
   "execution_count": null,
   "metadata": {},
   "outputs": [],
   "source": [
    "## Calculate the averages of each column.\n",
    "## extract the values of the resistance.  \n",
    "## Build a (new) dataframe and display it to see if it looks right.\n"
   ]
  },
  {
   "cell_type": "markdown",
   "metadata": {},
   "source": [
    "### Plot the raw data\n",
    "\n",
    "Just plot the data set of $V_{rms}$ vs $R$ to see what it looks like."
   ]
  },
  {
   "cell_type": "code",
   "execution_count": null,
   "metadata": {},
   "outputs": [],
   "source": [
    "## Plot the data sets on one graph\n",
    "## Header commands provided\n",
    "\n",
    "plt.figure(figsize=(9,6.5))\n",
    "plt.grid()\n",
    "plt.title('Johnson Noise Data')\n",
    "plt.ylabel(r'$V_J$ (Vrms)')\n",
    "plt.xlabel(r'Resistance $R$ ($\\Omega$)')\n",
    "## Add your code here\n"
   ]
  },
  {
   "cell_type": "markdown",
   "metadata": {},
   "source": [
    "### Exercise 2\n",
    "\n",
    "#### Part a.\n",
    "\n",
    "Modify the data arrays to (1) obtain the mean square voltages for each temperature, and (2) the difference in the (squared) data for the two temperatures.\n",
    "\n",
    "Then plot the results, all on one plot so yoy can compare them visually."
   ]
  },
  {
   "cell_type": "code",
   "execution_count": null,
   "metadata": {},
   "outputs": [],
   "source": [
    "## Modify the arrays as specified above\n",
    "\n"
   ]
  },
  {
   "cell_type": "code",
   "execution_count": null,
   "metadata": {},
   "outputs": [],
   "source": [
    "## Plot the results\n",
    "## Header commands provided to format plot\n",
    "\n",
    "plt.figure(figsize=(9,6.5))\n",
    "plt.grid()\n",
    "plt.title('Johnson Noise Data, in Quadrature')\n",
    "plt.ylabel(r'$V^2_J$ (Vrms$^2$)')\n",
    "plt.xlabel(r'Resistance $R$ ($\\Omega$)')\n",
    "## Add your code here\n",
    "plt.legend();"
   ]
  },
  {
   "cell_type": "markdown",
   "metadata": {},
   "source": [
    "#### Part b.\n",
    "\n",
    "Fit each to a line and obtain the slope with uncertainty.  Plot the data with the fit lines.\n",
    "\n",
    "First, make functions to clean up the coding."
   ]
  },
  {
   "cell_type": "code",
   "execution_count": null,
   "metadata": {},
   "outputs": [],
   "source": [
    "## Imports a linear fitting model from lmfit\n",
    "\n",
    "from lmfit.models import LinearModel\n",
    "line = LinearModel()\n",
    "\n",
    "## Defines a function to do the work.  Study it.  If you don't understand how this works,\n",
    "## find out by asking questions and or studying the functions in the code.\n",
    "\n",
    "def model_fit_and_plot(xdata, ydata, yerr=None, model=line):\n",
    "    '''\n",
    "    Fit a line or curve, and plot/show the fit results.\n",
    "    The function returns a parameters object with the fit parameters\n",
    "    '''\n",
    "    param_guess = model.guess(ydata, x=xdata)\n",
    "    if (yerr is None):\n",
    "        model_fit = model.fit(ydata, param_guess, x=xdata)\n",
    "    else:\n",
    "        model_fit = model.fit(ydata, param_guess, x=xdata, weights=1/yerr)\n",
    "    print(model_fit.fit_report(show_correl=False))\n",
    "    model_fit.plot();\n",
    "    return model_fit.params\n",
    "\n",
    "## This function simply saves typing\n",
    "\n",
    "def get_uslope(params):\n",
    "    return unc.ufloat(params['slope'].value, params['slope'].stderr)"
   ]
  },
  {
   "cell_type": "markdown",
   "metadata": {},
   "source": [
    "Then run the functions."
   ]
  },
  {
   "cell_type": "code",
   "execution_count": null,
   "metadata": {},
   "outputs": [],
   "source": [
    "## Use the functions above to run the fit for the 295K data\n",
    "## and save the fit parameters.  Then pull out the slope\n"
   ]
  },
  {
   "cell_type": "markdown",
   "metadata": {},
   "source": [
    "### Calculate a Boltzmann constant\n",
    "\n",
    "From the results, calculate the implied Boltzmann constant (with uncertainty).\n",
    "\n",
    "Revised gain of low-noise amplifier $G=10122\\pm35$ (as of July 2021, DBP)"
   ]
  },
  {
   "cell_type": "code",
   "execution_count": null,
   "metadata": {},
   "outputs": [],
   "source": [
    "## Create uncertainties objects for the other quantities.  The first two are examples\n",
    "T_295 = unc.ufloat(295.0,1.0) # K\n",
    "G = unc.ufloat(10122,35) # unitless\n",
    "# You do the rest\n",
    "\n",
    "\n",
    "## Calculate and print k_Boltzmann\n",
    "# Use the following print line:\n",
    "# print('Boltzmann constant from T = 295K data = {:.2uP} J/K'.format(k_295))\n",
    "# print('Accepted value = {:.4g} J/K'.format(k_B))"
   ]
  },
  {
   "cell_type": "markdown",
   "metadata": {},
   "source": [
    "### 77 K data\n",
    "Repeat the process for the 77K data set."
   ]
  },
  {
   "cell_type": "code",
   "execution_count": null,
   "metadata": {},
   "outputs": [],
   "source": [
    "## Repeat for the 77K data\n"
   ]
  },
  {
   "cell_type": "markdown",
   "metadata": {},
   "source": [
    "And finally, the difference data"
   ]
  },
  {
   "cell_type": "code",
   "execution_count": null,
   "metadata": {},
   "outputs": [],
   "source": [
    "## Repeat for the \"difference\" data (295K-77K)\n"
   ]
  },
  {
   "cell_type": "code",
   "execution_count": null,
   "metadata": {},
   "outputs": [],
   "source": [
    "## Make a plot of all data and fit lines\n",
    "\n"
   ]
  },
  {
   "cell_type": "markdown",
   "metadata": {},
   "source": [
    "#### Part c.\n",
    "\n",
    "Summary of results for Boltsmann constant:"
   ]
  },
  {
   "cell_type": "code",
   "execution_count": null,
   "metadata": {},
   "outputs": [],
   "source": [
    "## Summarize the results in one table\n",
    "## Like so:\n",
    "## print('  T (K)  |  k_B (J/K)   ')\n",
    "## print('---------|--------------------')\n",
    "## print('   295   | {:.1uP}'.format(k_295))\n",
    "## print('    77   | {:.1uP}'.format(k_77))\n",
    "## print(' 295-77  | {:.1uP}'.format(k_218))\n",
    "## print('Accepted | {:10.4g}'.format(k_B))\n"
   ]
  },
  {
   "cell_type": "markdown",
   "metadata": {},
   "source": [
    "## Exercise 3: Noise Figure\n",
    "\n",
    "Calculate the \"noise figure\" for the low-noise amp, as described in the instructions.\n",
    "\n",
    "The noise figure is defined:\n",
    "\n",
    "$$ NF = 20\\log_{10}\\frac{V_{rms}(R)}{G\\times\\sqrt{4k_BTRB}} \\; \\text{dB}$$\n",
    "\n",
    "Please limit the noise figure to 2 digits beyond the decimal point.  \n",
    "\n",
    "Note: It clearly does not work for $R=0$."
   ]
  },
  {
   "cell_type": "code",
   "execution_count": null,
   "metadata": {},
   "outputs": [],
   "source": [
    "## Calculate the Noise figure for the various values of R at \n",
    "## room temperature and display it as a table or a plot\n",
    "\n",
    "## Slice removes value at 0 ohms\n",
    "\n",
    "## Make a data frame to display\n",
    "\n"
   ]
  },
  {
   "cell_type": "markdown",
   "metadata": {},
   "source": [
    "## Shot Noise Analysis\n",
    "\n",
    "This is very similar to the Johnson noise analysis.\n",
    "\n",
    "### Read in the data\n",
    "\n",
    "Now the column names need to split at `m` to convert the current labels into currents."
   ]
  },
  {
   "cell_type": "code",
   "execution_count": null,
   "metadata": {
    "scrolled": true
   },
   "outputs": [],
   "source": [
    "## Read in the shot noise data and display it\n"
   ]
  },
  {
   "cell_type": "markdown",
   "metadata": {},
   "source": [
    "### Obtain averages"
   ]
  },
  {
   "cell_type": "code",
   "execution_count": null,
   "metadata": {},
   "outputs": [],
   "source": [
    "## Calculate the averages and extract the values of the emission current.  \n",
    "## Display the results to check.\n",
    "\n"
   ]
  },
  {
   "cell_type": "markdown",
   "metadata": {},
   "source": [
    "### Plot the raw data"
   ]
  },
  {
   "cell_type": "code",
   "execution_count": null,
   "metadata": {},
   "outputs": [],
   "source": [
    "## Plot it\n"
   ]
  },
  {
   "cell_type": "markdown",
   "metadata": {},
   "source": [
    "### Calculate $V^2_{rms}$"
   ]
  },
  {
   "cell_type": "code",
   "execution_count": null,
   "metadata": {
    "scrolled": true
   },
   "outputs": [],
   "source": [
    "## transform the data, like you did with Johnson noise\n"
   ]
  },
  {
   "cell_type": "markdown",
   "metadata": {},
   "source": [
    "### Then fit it and plot it\n",
    "\n",
    "**Note:** The shot nose data are not \"pure\" in that you will see a notable deviation from the expected behavior.  The data are affected by $1/f$ noise in the vacuum diode that gets worse with higher emission current.  There are a couple of ways around this:\n",
    "\n",
    "1. Select a portion of the data to fit, where the $1/f$ problem is less.\n",
    "2. Make a ploynomial fit and look at the linear term.\n",
    "\n",
    "You should try a couple of options and compare your results with your partners."
   ]
  },
  {
   "cell_type": "code",
   "execution_count": null,
   "metadata": {},
   "outputs": [],
   "source": [
    "## First the fit\n",
    "\n",
    "## Try the whole data set first.\n",
    "\n",
    "## Then try the lower half of the data, before the 1/f takes over \n",
    "\n"
   ]
  },
  {
   "cell_type": "markdown",
   "metadata": {},
   "source": [
    "Optional: Another way out of the $1/f$ problem is to fit a quadratic, and use the linear-term coefficient as the initial slope."
   ]
  },
  {
   "cell_type": "code",
   "execution_count": null,
   "metadata": {},
   "outputs": [],
   "source": [
    "## To do this, you need a different fitting model\n",
    "#  Below will get you started, but you need to study the docs to understand the parameters.\n",
    "\n",
    "from lmfit.models import QuadraticModel\n",
    "quadratic = QuadraticModel()\n",
    "\n",
    "## You do the rest"
   ]
  },
  {
   "cell_type": "code",
   "execution_count": null,
   "metadata": {},
   "outputs": [],
   "source": [
    "## Now make a nice plot of all fits\n",
    "##\n"
   ]
  },
  {
   "cell_type": "markdown",
   "metadata": {},
   "source": [
    "### Calculate Electron Charge\n",
    "\n",
    "Use the fit results, propagate the uncertainty, and find a value for $e$."
   ]
  },
  {
   "cell_type": "code",
   "execution_count": null,
   "metadata": {},
   "outputs": [],
   "source": [
    "## Calculate e with uncertainty and print it (with units) \n",
    "## Compare with the accepted value\n",
    "\n",
    "# You will need this\n",
    "# R_load = unc.ufloat(4976,1) # Load resistance of shot noise box in ohms \n",
    "\n",
    "# print('\\nElectron charge from whole data set = {:.2uP} C'.format(e_1))\n",
    "# print('Electron charge from partial data set = {:.2uP} C'.format(e_2))\n",
    "# print('Electron charge from quadratic fit = {:.2uP} C'.format(e_3))\n",
    "# print('\\nAccepted value = {:.4g} C'.format(const.e))"
   ]
  },
  {
   "cell_type": "markdown",
   "metadata": {},
   "source": [
    "## Optional Exercise: $1/f$ noise\n",
    "\n",
    "Measurements of the power spectral density in units of $V/\\sqrt{\\text{Hz}}$ were made from the \"1/f noise source\", along with the same values from the amplifier alone.  The curve shows a 1/f spectrum where $V^2 \\propto 1/f^\\alpha$.  In this exercise, one determines the exponent $\\alpha$.\n",
    "\n",
    "The data are in a file called `one_over_f_noise_data_SUM2021.csv`.  The first line of the data file must be skipped.  (Look at it to see why.)"
   ]
  },
  {
   "cell_type": "code",
   "execution_count": null,
   "metadata": {},
   "outputs": [],
   "source": [
    "## Read in the data\n"
   ]
  },
  {
   "cell_type": "code",
   "execution_count": null,
   "metadata": {},
   "outputs": [],
   "source": [
    "## Do the \"subtract by quadrature\" game to remove the mostly constant background.\n",
    "\n",
    "## Convienence: pull out the frequency array\n"
   ]
  },
  {
   "cell_type": "code",
   "execution_count": null,
   "metadata": {},
   "outputs": [],
   "source": [
    "## Make a plot  Use log axes to see a line\n"
   ]
  },
  {
   "cell_type": "code",
   "execution_count": null,
   "metadata": {},
   "outputs": [],
   "source": [
    "## Fit a line to the log_10 of the data vs log_10 of the frequency.\n",
    "## The slope will be -alpha.\n"
   ]
  },
  {
   "cell_type": "code",
   "execution_count": null,
   "metadata": {},
   "outputs": [],
   "source": [
    "## Extract the exponent from the fit\n",
    "\n",
    "# print('1/f noise exponent = {:.1uP}'.format(alpha))"
   ]
  },
  {
   "cell_type": "code",
   "execution_count": null,
   "metadata": {},
   "outputs": [],
   "source": []
  }
 ],
 "metadata": {
  "kernelspec": {
   "display_name": "Python 3",
   "language": "python",
   "name": "python3"
  },
  "language_info": {
   "codemirror_mode": {
    "name": "ipython",
    "version": 3
   },
   "file_extension": ".py",
   "mimetype": "text/x-python",
   "name": "python",
   "nbconvert_exporter": "python",
   "pygments_lexer": "ipython3",
   "version": "3.7.3"
  }
 },
 "nbformat": 4,
 "nbformat_minor": 2
}
