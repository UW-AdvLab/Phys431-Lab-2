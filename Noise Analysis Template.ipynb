{
 "cells": [
  {
   "cell_type": "markdown",
   "metadata": {},
   "source": [
    "# Johnson/Shot Noise Individual Analysis\n",
    "\n",
    "Use this template to carry out the analysis tasks for the Noise experiment.  For reference, here are links to recommended Python resources: the [Whirlwind Tour of Python](https://jakevdp.github.io/WhirlwindTourOfPython/) and the [Python Data Science Handbook](https://jakevdp.github.io/PythonDataScienceHandbook/) both by Jake VanderPlas.\n",
    "\n",
    "We will be making use of both the [Uncertainties](https://pythonhosted.org/uncertainties/) and [LMFit](https://lmfit.github.io/lmfit-py/) packages in this notebook."
   ]
  },
  {
   "cell_type": "code",
   "execution_count": 1,
   "metadata": {},
   "outputs": [],
   "source": [
    "# Run this cell with Shift-Enter, and wait until the asterisk changes to a number, i.e., [*] becomes [1]\n",
    "import numpy as np\n",
    "import scipy.constants as const\n",
    "import uncertainties as unc\n",
    "import matplotlib.pyplot as plt\n",
    "import pandas as pd\n",
    "%matplotlib inline"
   ]
  },
  {
   "cell_type": "markdown",
   "metadata": {},
   "source": [
    "## Johnson Noise Analysis\n",
    "\n",
    "### Get and Plot the Raw Data\n",
    "\n",
    "**About the data files:**  The spreadsheets show columns with headings of the resistance for Johnson noise or emission current for shot noise.  The values themselves are volts RMS.  You will want to average these before plotting.\n",
    "\n",
    "Create arrays that are the averages of the 5 readings at each value of the resistance."
   ]
  },
  {
   "cell_type": "code",
   "execution_count": 2,
   "metadata": {},
   "outputs": [],
   "source": [
    "## Read in the data set and display it\n"
   ]
  },
  {
   "cell_type": "markdown",
   "metadata": {},
   "source": [
    "If you read the data into a Pandas DataFrame, you will need to extract the resistance from the column heading.\n",
    "\n",
    "Here is one way to do it, assuming `col_label` is the column label:\n",
    "```\n",
    "    resistance = float(col_label.split('k')[0])\n",
    "```\n",
    "This splits the label at `k` and puts the number into the first (0) position as a string.  `float()` converts the number string to a flaoting point number."
   ]
  },
  {
   "cell_type": "code",
   "execution_count": 3,
   "metadata": {},
   "outputs": [],
   "source": [
    "## Calculate the averages and extract the values of the resistance.  Display the results to check\n",
    "\n"
   ]
  },
  {
   "cell_type": "markdown",
   "metadata": {},
   "source": [
    "#### Repeat for the other temperature "
   ]
  },
  {
   "cell_type": "code",
   "execution_count": 4,
   "metadata": {},
   "outputs": [],
   "source": [
    "## Read in the data set and display it"
   ]
  },
  {
   "cell_type": "code",
   "execution_count": 5,
   "metadata": {},
   "outputs": [],
   "source": [
    "## Calculate the averages and extract the values of the resistance.  Display the results to check\n"
   ]
  },
  {
   "cell_type": "markdown",
   "metadata": {},
   "source": [
    "### Plot the raw data\n",
    "\n",
    "Just plot the data set of $V_{rms}$ vs $R$ to see what it looks like."
   ]
  },
  {
   "cell_type": "code",
   "execution_count": null,
   "metadata": {},
   "outputs": [],
   "source": [
    "## Plot the data sets on one graph\n",
    "## Header commands provided\n",
    "\n",
    "plt.figure(figsize=(9,6.5))\n",
    "plt.grid()\n",
    "plt.title('Johnson Noise Data')\n",
    "plt.ylabel(r'$V_J$ (Vrms)')\n",
    "plt.xlabel(r'Resistance $R$ ($\\Omega$)')\n"
   ]
  },
  {
   "cell_type": "markdown",
   "metadata": {},
   "source": [
    "### Exercise 2\n",
    "\n",
    "#### Part a.\n",
    "\n",
    "Modify the data arrays to (1) obtain the mean square voltages for each temeperature, and (2) the difference in the data for the two temeperatures.\n",
    "\n",
    "Then plot the results, all on one plot so yoy can compare them visually."
   ]
  },
  {
   "cell_type": "code",
   "execution_count": null,
   "metadata": {},
   "outputs": [],
   "source": [
    "## Modify the arrays and plot\n",
    "\n",
    "## Header commands provided\n",
    "plt.figure(figsize=(9,6.5))\n",
    "plt.grid()\n",
    "plt.title('Johnson Noise Data, in Quadrature')\n",
    "plt.ylabel(r'$V^2_J$ (Vrms$^2$)')\n",
    "plt.xlabel(r'Resistance $R$ ($\\Omega$)')\n"
   ]
  },
  {
   "cell_type": "markdown",
   "metadata": {},
   "source": [
    "#### Part b.\n",
    "\n",
    "Fit each to a line and obtain the slope with uncertainty.  Plot the data with the fit lines."
   ]
  },
  {
   "cell_type": "code",
   "execution_count": 8,
   "metadata": {},
   "outputs": [],
   "source": [
    "# import a linear fitting model from lmfit\n",
    "from lmfit.models import LinearModel\n",
    "\n",
    "## You do the rest, and save the fit results and uncertainty to an Uncertainties object\n",
    "## Like this:\n",
    "## uslope = unc.ufloat(line_fit.params['slope'].value,line_fit.params['slope'].stderr)\n"
   ]
  },
  {
   "cell_type": "code",
   "execution_count": 9,
   "metadata": {},
   "outputs": [],
   "source": [
    "## Create uncertainties objects for the other quantities.  The first one is an example\n",
    "T_295 = unc.ufloat(295.0,1.0) # K\n",
    "\n",
    "## Then calculate the Boltzmann constant from the fit results for the 295K data and other parameters, with uncertainty.\n",
    "## print('\\n\\nBoltzmann constant from T=77K data = {:.2uP} J/K'.format(k_77))"
   ]
  },
  {
   "cell_type": "code",
   "execution_count": 10,
   "metadata": {},
   "outputs": [],
   "source": [
    "## Repeat for the 77K data\n"
   ]
  },
  {
   "cell_type": "code",
   "execution_count": 11,
   "metadata": {},
   "outputs": [],
   "source": [
    "## Repeat for the \"difference\" data (295K-77K)"
   ]
  },
  {
   "cell_type": "code",
   "execution_count": 12,
   "metadata": {},
   "outputs": [],
   "source": [
    "##\n",
    "## Make a plot of all data and fit lines\n",
    "\n"
   ]
  },
  {
   "cell_type": "markdown",
   "metadata": {},
   "source": [
    "#### Part c.\n",
    "\n",
    "Summary of results for Boltsmann constant:"
   ]
  },
  {
   "cell_type": "code",
   "execution_count": 13,
   "metadata": {},
   "outputs": [],
   "source": [
    "## Summarize the results in one table\n",
    "## Like so:\n",
    "## print('  T (K)  |  k_B (J/K)   ')\n",
    "## print('---------|--------------------')\n",
    "## print('   295   | {:.1uP}'.format(k_295))\n",
    "## print('    77   | {:.1uP}'.format(k_77))\n",
    "## print(' 295-77  | {:.1uP}'.format(k_218))\n",
    "## print('Accepted | {:10.4g}'.format(k_B))"
   ]
  },
  {
   "cell_type": "markdown",
   "metadata": {},
   "source": [
    "## Exercise 3: Noise Figure\n",
    "\n",
    "Calculate the \"noise figure\" for the low-noise amp, as described in the instructions.\n",
    "\n",
    "The noise figure is defined:\n",
    "\n",
    "$$ NF = 20\\log_{10}\\frac{V_{rms}(R)}{G\\times\\sqrt{4k_BTRB}} \\; \\text{dB}$$\n",
    "\n",
    "Please limit the noise figure to 2 digits beyond the decimal point.  \n",
    "\n",
    "Note: It clearly does not work for $R=0$."
   ]
  },
  {
   "cell_type": "code",
   "execution_count": 14,
   "metadata": {},
   "outputs": [],
   "source": [
    "## Calculate the Noise figure for the various values of R at room temp and display it as a table or a plot\n",
    "\n"
   ]
  },
  {
   "cell_type": "markdown",
   "metadata": {},
   "source": [
    "## Shot Noise Analysis\n",
    "\n",
    "This is very similar to the Johnson noise analysis.\n",
    "\n",
    "### Read in the data\n",
    "\n",
    "Now the column names need to split at `m` to convert the current labels into currents."
   ]
  },
  {
   "cell_type": "code",
   "execution_count": 15,
   "metadata": {
    "scrolled": true
   },
   "outputs": [],
   "source": [
    "## Read in the shot noise data and display it\n"
   ]
  },
  {
   "cell_type": "markdown",
   "metadata": {},
   "source": [
    "### Obtain averages"
   ]
  },
  {
   "cell_type": "code",
   "execution_count": 16,
   "metadata": {},
   "outputs": [],
   "source": [
    "## Calculate the averages and extract the values of the emission current.  Display the results to check.\n",
    "\n"
   ]
  },
  {
   "cell_type": "markdown",
   "metadata": {},
   "source": [
    "### Plot the raw data"
   ]
  },
  {
   "cell_type": "code",
   "execution_count": 17,
   "metadata": {},
   "outputs": [],
   "source": [
    "## Plot it"
   ]
  },
  {
   "cell_type": "markdown",
   "metadata": {},
   "source": [
    "### Calculate $V^2_{rms}$"
   ]
  },
  {
   "cell_type": "code",
   "execution_count": 18,
   "metadata": {
    "scrolled": true
   },
   "outputs": [],
   "source": [
    "## transform the data, like you did with Johnson noise"
   ]
  },
  {
   "cell_type": "markdown",
   "metadata": {},
   "source": [
    "### Then fit it and plot it"
   ]
  },
  {
   "cell_type": "code",
   "execution_count": 19,
   "metadata": {},
   "outputs": [],
   "source": [
    "## First the fit\n",
    "\n"
   ]
  },
  {
   "cell_type": "code",
   "execution_count": 20,
   "metadata": {},
   "outputs": [],
   "source": [
    "## Now make a nice plot\n",
    "##\n"
   ]
  },
  {
   "cell_type": "markdown",
   "metadata": {},
   "source": [
    "### Calculate Electron Charge\n",
    "\n",
    "Use the fit results, propagate the uncertainty, and find a value for $e$."
   ]
  },
  {
   "cell_type": "code",
   "execution_count": 21,
   "metadata": {},
   "outputs": [],
   "source": [
    "## Calculate e with uncertainty and print it (with units) \n"
   ]
  },
  {
   "cell_type": "code",
   "execution_count": null,
   "metadata": {},
   "outputs": [],
   "source": []
  }
 ],
 "metadata": {
  "kernelspec": {
   "display_name": "Python 3",
   "language": "python",
   "name": "python3"
  },
  "language_info": {
   "codemirror_mode": {
    "name": "ipython",
    "version": 3
   },
   "file_extension": ".py",
   "mimetype": "text/x-python",
   "name": "python",
   "nbconvert_exporter": "python",
   "pygments_lexer": "ipython3",
   "version": "3.7.3"
  }
 },
 "nbformat": 4,
 "nbformat_minor": 2
}
